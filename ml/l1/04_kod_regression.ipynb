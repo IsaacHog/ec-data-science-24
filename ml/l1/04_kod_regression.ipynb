{
 "cells": [
  {
   "cell_type": "markdown",
   "id": "5157a98d",
   "metadata": {},
   "source": [
    "# Regressionproblem - Example\n",
    "In this script we demonstrate how a Machine Learning workflow can look like when you use cross validation on the train set to choose model and then evaluate the chosen models generalization error on the test set. "
   ]
  },
  {
   "cell_type": "code",
   "execution_count": 26,
   "id": "336ea8e7",
   "metadata": {},
   "outputs": [],
   "source": [
    "import numpy as np\n",
    "import pandas as pd\n",
    "import matplotlib.pyplot as plt \n",
    "import seaborn as sns\n",
    "\n",
    "from sklearn.datasets import load_diabetes\n",
    "\n",
    "from sklearn.model_selection import train_test_split\n",
    "\n",
    "from sklearn.linear_model import LinearRegression\n",
    "from sklearn.linear_model import Lasso\n",
    "from sklearn.ensemble import RandomForestRegressor\n",
    "\n",
    "from sklearn.metrics import root_mean_squared_error\n",
    "from sklearn.model_selection import GridSearchCV\n",
    "from sklearn.model_selection import cross_validate"
   ]
  },
  {
   "cell_type": "markdown",
   "id": "0615ce8e",
   "metadata": {},
   "source": [
    "# Loading Data"
   ]
  },
  {
   "cell_type": "code",
   "execution_count": 3,
   "id": "67b08db1",
   "metadata": {},
   "outputs": [],
   "source": [
    "# This code is merely executed to see the description of the data in a smooth way\n",
    "data = load_diabetes()"
   ]
  },
  {
   "cell_type": "code",
   "execution_count": null,
   "id": "b9f14d56",
   "metadata": {},
   "outputs": [],
   "source": [
    "print(data.DESCR)"
   ]
  },
  {
   "cell_type": "markdown",
   "id": "1c2aebf2",
   "metadata": {},
   "source": [
    "## Storing/Loading the data in the way it will be used"
   ]
  },
  {
   "cell_type": "code",
   "execution_count": 5,
   "id": "1923ad1b",
   "metadata": {},
   "outputs": [],
   "source": [
    "X, y = load_diabetes(return_X_y=True, as_frame=True)"
   ]
  },
  {
   "cell_type": "code",
   "execution_count": null,
   "id": "e0c71590",
   "metadata": {},
   "outputs": [],
   "source": [
    "print(X.info())\n",
    "print()\n",
    "print(y.info())"
   ]
  },
  {
   "cell_type": "code",
   "execution_count": 7,
   "id": "5b2a55d5",
   "metadata": {},
   "outputs": [],
   "source": [
    "X_train, X_test, y_train, y_test = train_test_split(X, y, test_size=0.2, random_state=42)"
   ]
  },
  {
   "cell_type": "markdown",
   "id": "c2857b5c",
   "metadata": {},
   "source": [
    "# EDA"
   ]
  },
  {
   "cell_type": "code",
   "execution_count": null,
   "id": "22883505",
   "metadata": {},
   "outputs": [],
   "source": [
    "# Placing all the data in \"df\" so I can make a nice correlation plot\n",
    "df = X.copy()\n",
    "df['target'] = y\n",
    "\n",
    "correlation_matrix = df.corr()\n",
    "sns.heatmap(correlation_matrix, annot=True)"
   ]
  },
  {
   "cell_type": "code",
   "execution_count": null,
   "id": "e8035b0c",
   "metadata": {},
   "outputs": [],
   "source": [
    "# Intuitive (and from the correlation plot), therese should be a positive relationship \n",
    "# between the target (disease progression) and BMI.\n",
    "plt.scatter(df[\"bmi\"], df[\"target\"])\n",
    "plt.xlabel(\"bmi\")\n",
    "plt.ylabel(\"Disease Progression\")"
   ]
  },
  {
   "cell_type": "code",
   "execution_count": null,
   "id": "6ae61a61",
   "metadata": {},
   "outputs": [],
   "source": [
    "X_train.head()"
   ]
  },
  {
   "cell_type": "code",
   "execution_count": null,
   "id": "2140b9ea",
   "metadata": {},
   "outputs": [],
   "source": [
    "X_train.describe()"
   ]
  },
  {
   "cell_type": "code",
   "execution_count": null,
   "id": "0dcd7d66",
   "metadata": {},
   "outputs": [],
   "source": [
    "y_train.head()"
   ]
  },
  {
   "cell_type": "code",
   "execution_count": null,
   "id": "4a06b303",
   "metadata": {},
   "outputs": [],
   "source": [
    "y_train.describe()"
   ]
  },
  {
   "cell_type": "markdown",
   "id": "5694a894",
   "metadata": {},
   "source": [
    "# Creating 3 different models and choosing the best one with Cross Validation. "
   ]
  },
  {
   "cell_type": "code",
   "execution_count": null,
   "id": "3c102d98",
   "metadata": {},
   "outputs": [],
   "source": [
    "lin_reg = LinearRegression()\n",
    "\n",
    "# In Scikit-learn, higher score is better. Since a low MSE is better than a high,\n",
    "# we use negative mean squared error to respect the rule \"higher is better\".\n",
    "scores_lr = cross_validate(lin_reg, X_train, y_train, cv=3, scoring = 'neg_mean_squared_error')[\"test_score\"]\n",
    "print('RMSE for each iteration:', np.sqrt(-scores_lr))\n",
    "print('RMSE:', np.sqrt(np.mean(-scores_lr)))"
   ]
  },
  {
   "cell_type": "code",
   "execution_count": null,
   "id": "268cbd74",
   "metadata": {},
   "outputs": [],
   "source": [
    "lasso = Lasso()\n",
    "hyper_param_lasso = {'alpha':(0.01, 1, 2, 5, 10)}\n",
    "lasso_reg = GridSearchCV(lasso, hyper_param_lasso, cv = 5)\n",
    "# Fit the gridsearch to use the best hyperparameter in our cross validation\n",
    "lasso_reg.fit(X_train, y_train)\n",
    "\n",
    "print(lasso_reg.best_params_)\n",
    "\n",
    "scores_lasso = cross_validate(lasso_reg, X_train, y_train, cv=3, scoring = 'neg_mean_squared_error')[\"test_score\"]\n",
    "print('RMSE for each iteration:', np.sqrt(-scores_lasso))\n",
    "print('RMSE:', np.sqrt(np.mean(-scores_lasso)))"
   ]
  },
  {
   "cell_type": "code",
   "execution_count": null,
   "id": "46101993",
   "metadata": {},
   "outputs": [],
   "source": [
    "forest = RandomForestRegressor()\n",
    "param_grid = { \n",
    "    'n_estimators': [10, 100, 120],\n",
    "    'max_depth' : [None, 10],\n",
    "}\n",
    "forest_reg = GridSearchCV(forest, param_grid=param_grid, cv= 5)\n",
    "# Fit the gridsearch to use the best hyperparameter in our cross validation\n",
    "forest_reg.fit(X_train, y_train)\n",
    "\n",
    "print(forest_reg.best_params_)\n",
    "\n",
    "scores_forest = cross_validate(forest_reg, X_train, y_train, cv=3, scoring = 'neg_mean_squared_error')[\"test_score\"]\n",
    "print('RMSE for each iteration:', np.sqrt(-scores_forest))\n",
    "print('RMSE:', np.sqrt(np.mean(-scores_forest)))"
   ]
  },
  {
   "cell_type": "code",
   "execution_count": null,
   "id": "568ce772",
   "metadata": {},
   "outputs": [],
   "source": []
  },
  {
   "cell_type": "markdown",
   "id": "c3fd7f3d",
   "metadata": {},
   "source": [
    "The Linear Regression modell had lowest RMSE and hence we choose that one as our model. "
   ]
  },
  {
   "cell_type": "code",
   "execution_count": null,
   "id": "973a2915",
   "metadata": {},
   "outputs": [],
   "source": [
    "lin_reg.fit(X_train, y_train)"
   ]
  },
  {
   "cell_type": "markdown",
   "id": "43b03e3e",
   "metadata": {},
   "source": [
    "# Evaluating the chosen model on the test set"
   ]
  },
  {
   "cell_type": "code",
   "execution_count": null,
   "id": "7006959b",
   "metadata": {},
   "outputs": [],
   "source": [
    "# Calculating the mean value of the y_test data. We will put this in relation to the RMSE that we soon calculate.\n",
    "print(np.mean(y_test))"
   ]
  },
  {
   "cell_type": "code",
   "execution_count": null,
   "id": "764e9ece",
   "metadata": {
    "scrolled": true
   },
   "outputs": [],
   "source": [
    "y_test.plot.box()"
   ]
  },
  {
   "cell_type": "code",
   "execution_count": null,
   "id": "e0b35221",
   "metadata": {},
   "outputs": [],
   "source": [
    "y_test_pred_lr = lin_reg.predict(X_test)\n",
    "RMSE_test_data = root_mean_squared_error(y_test, y_test_pred_lr)\n",
    "print(RMSE_test_data)"
   ]
  },
  {
   "cell_type": "code",
   "execution_count": null,
   "id": "d379e7bd",
   "metadata": {},
   "outputs": [],
   "source": [
    "# Our error on the test data is about 37% in relation to the mean value of the test data. \n",
    "(RMSE_test_data)/(np.mean(y_test))"
   ]
  },
  {
   "cell_type": "code",
   "execution_count": null,
   "id": "779b8ed7",
   "metadata": {},
   "outputs": [],
   "source": []
  }
 ],
 "metadata": {
  "kernelspec": {
   "display_name": "Python 3 (ipykernel)",
   "language": "python",
   "name": "python3"
  },
  "language_info": {
   "codemirror_mode": {
    "name": "ipython",
    "version": 3
   },
   "file_extension": ".py",
   "mimetype": "text/x-python",
   "name": "python",
   "nbconvert_exporter": "python",
   "pygments_lexer": "ipython3",
   "version": "3.13.0"
  }
 },
 "nbformat": 4,
 "nbformat_minor": 5
}
