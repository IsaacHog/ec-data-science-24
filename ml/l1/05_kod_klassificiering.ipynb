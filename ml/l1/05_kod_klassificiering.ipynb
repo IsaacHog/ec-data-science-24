{
 "cells": [
  {
   "cell_type": "markdown",
   "id": "2c6f33cf",
   "metadata": {},
   "source": [
    "# Classification - Example\n",
    "In this script we demonstrate how a Machine Learning workflow can look like when you use a train, validation and test set. "
   ]
  },
  {
   "cell_type": "code",
   "execution_count": 35,
   "id": "10f414f5",
   "metadata": {},
   "outputs": [],
   "source": [
    "import numpy as np\n",
    "import pandas as pd\n",
    "import matplotlib.pyplot as plt\n",
    "import seaborn as sns; sns.set_theme()\n",
    "\n",
    "from sklearn.model_selection import train_test_split\n",
    "from sklearn.datasets import load_iris\n",
    "\n",
    "from sklearn.model_selection import GridSearchCV\n",
    "from sklearn.linear_model import LogisticRegression\n",
    "from sklearn.tree import DecisionTreeClassifier\n",
    "\n",
    "from sklearn.metrics import classification_report\n",
    "from sklearn.metrics import confusion_matrix, ConfusionMatrixDisplay"
   ]
  },
  {
   "cell_type": "markdown",
   "id": "61241530",
   "metadata": {},
   "source": [
    "# Loading Data"
   ]
  },
  {
   "cell_type": "code",
   "execution_count": 2,
   "id": "fedd8277",
   "metadata": {},
   "outputs": [],
   "source": [
    "# This code is merely executed to see the description and target names in a smooth way\n",
    "iris = load_iris()"
   ]
  },
  {
   "cell_type": "code",
   "execution_count": null,
   "id": "758c902a",
   "metadata": {},
   "outputs": [],
   "source": [
    "print(iris.DESCR)"
   ]
  },
  {
   "cell_type": "code",
   "execution_count": null,
   "id": "fe390c0c",
   "metadata": {},
   "outputs": [],
   "source": [
    "iris.target_names"
   ]
  },
  {
   "cell_type": "markdown",
   "id": "2fe6425a",
   "metadata": {},
   "source": [
    "## Storing/Loading the data in the way it will be used"
   ]
  },
  {
   "cell_type": "code",
   "execution_count": 5,
   "id": "de3eee80",
   "metadata": {},
   "outputs": [],
   "source": [
    "X, y = load_iris(return_X_y=True, as_frame=True)\n",
    "\n",
    "# Only choose two variables for my model\n",
    "X = X[['sepal length (cm)', 'sepal width (cm)']]"
   ]
  },
  {
   "cell_type": "code",
   "execution_count": null,
   "id": "d922eba1",
   "metadata": {},
   "outputs": [],
   "source": [
    "print(X.info())"
   ]
  },
  {
   "cell_type": "code",
   "execution_count": null,
   "id": "994f9713",
   "metadata": {},
   "outputs": [],
   "source": [
    "print(y.info())"
   ]
  },
  {
   "cell_type": "markdown",
   "id": "e058b2f2",
   "metadata": {},
   "source": [
    "# Train, Validation, and Test Set"
   ]
  },
  {
   "cell_type": "code",
   "execution_count": 8,
   "id": "07de837d",
   "metadata": {},
   "outputs": [],
   "source": [
    "X_train_full, X_test, y_train_full, y_test = train_test_split(X, y, test_size=0.2, random_state=40)\n",
    "X_train, X_val, y_train, y_val = train_test_split(X_train_full, y_train_full, test_size=0.3, random_state=36)"
   ]
  },
  {
   "cell_type": "markdown",
   "id": "95711dc4",
   "metadata": {},
   "source": [
    "# EDA\n",
    "We are only allowed to explore / learn things on the training data when creating our model. "
   ]
  },
  {
   "cell_type": "code",
   "execution_count": null,
   "id": "7054af39",
   "metadata": {},
   "outputs": [],
   "source": [
    "classes = ['setosa', 'versicolor', 'virginica']\n",
    "scatter = plt.scatter(X_train['sepal length (cm)'], X_train['sepal width (cm)'], c=y_train, cmap=plt.get_cmap(\"viridis\"))\n",
    "plt.xlabel('Sepal Length (cm)')\n",
    "plt.ylabel('Sepal Width (cm)')\n",
    "plt.title('Scatter Plot of Sepal Length vs. Sepal Width (Train Data)')\n",
    "plt.legend(handles=scatter.legend_elements()[0], labels=classes)"
   ]
  },
  {
   "cell_type": "code",
   "execution_count": null,
   "id": "accffa92",
   "metadata": {},
   "outputs": [],
   "source": [
    "X_train.head()"
   ]
  },
  {
   "cell_type": "code",
   "execution_count": null,
   "id": "319275dd",
   "metadata": {},
   "outputs": [],
   "source": [
    "y_train.head()"
   ]
  },
  {
   "cell_type": "code",
   "execution_count": null,
   "id": "e08229cd",
   "metadata": {},
   "outputs": [],
   "source": [
    "# 0 = 'setosa', 1 = 'versicolor', 2 = 'virginica'\n",
    "y_train.value_counts()"
   ]
  },
  {
   "cell_type": "markdown",
   "id": "75253d4a",
   "metadata": {},
   "source": [
    "# Training 2 different models"
   ]
  },
  {
   "cell_type": "code",
   "execution_count": 24,
   "id": "9f48ceac",
   "metadata": {},
   "outputs": [],
   "source": [
    "log_reg = LogisticRegression()\n",
    "log_reg.fit(X_train, y_train)\n",
    "log_reg_pred = log_reg.predict(X_val)"
   ]
  },
  {
   "cell_type": "code",
   "execution_count": 25,
   "id": "37b6d73e",
   "metadata": {},
   "outputs": [],
   "source": [
    "tree_clf = DecisionTreeClassifier()\n",
    "\n",
    "# Finding the best hyperparameter through GridSearch.\n",
    "hyper_params = {'max_depth':(None, 1, 2, 5, 10)}\n",
    "clf = GridSearchCV(tree_clf, hyper_params)\n",
    "\n",
    "clf.fit(X_train, y_train)\n",
    "clf_pred = clf.predict(X_val)"
   ]
  },
  {
   "cell_type": "code",
   "execution_count": null,
   "id": "310f2be3",
   "metadata": {},
   "outputs": [],
   "source": [
    "print(clf.best_params_)\n",
    "pd.DataFrame(clf.cv_results_)"
   ]
  },
  {
   "cell_type": "markdown",
   "id": "2faad301",
   "metadata": {},
   "source": [
    "## Choosing the best model through validation set"
   ]
  },
  {
   "cell_type": "code",
   "execution_count": null,
   "id": "b9aff790",
   "metadata": {},
   "outputs": [],
   "source": [
    "# These names were obtained above\n",
    "target_names_iris = ['setosa', 'versicolor', 'virginica']\n",
    "\n",
    "cm1 = confusion_matrix(y_val, log_reg_pred)\n",
    "cm2 = confusion_matrix(y_val, clf_pred)\n",
    "\n",
    "fig, axs = plt.subplots(1, 2, figsize = (8, 4), layout='constrained')\n",
    "ConfusionMatrixDisplay(cm1, display_labels = target_names_iris).plot(ax=axs[0])\n",
    "ConfusionMatrixDisplay(cm2, display_labels = target_names_iris).plot(ax=axs[1])\n",
    "[ax.grid(False) for ax in axs]"
   ]
  },
  {
   "cell_type": "code",
   "execution_count": null,
   "id": "3514314b",
   "metadata": {},
   "outputs": [],
   "source": [
    "print(classification_report(y_val, log_reg_pred, target_names=target_names_iris))"
   ]
  },
  {
   "cell_type": "code",
   "execution_count": null,
   "id": "d7d1fc18",
   "metadata": {},
   "outputs": [],
   "source": [
    "print(classification_report(y_val, clf_pred, target_names=target_names_iris))"
   ]
  },
  {
   "cell_type": "markdown",
   "id": "e3b69af1",
   "metadata": {},
   "source": [
    "# Evaluating chosen model through test set\n",
    "\n",
    "The results are extremely good since this is a \"toy dataset\". In reality we do not expect numbers that are as perfect as those below. "
   ]
  },
  {
   "cell_type": "code",
   "execution_count": 39,
   "id": "180a5d36",
   "metadata": {},
   "outputs": [],
   "source": [
    "# Now we retrain our model on the train + validation data. \n",
    "log_reg_final = LogisticRegression().fit(X_train_full, y_train_full)\n",
    "pred_test = log_reg_final.predict(X_test)"
   ]
  },
  {
   "cell_type": "code",
   "execution_count": null,
   "id": "c9cd912d",
   "metadata": {},
   "outputs": [],
   "source": [
    "fig, ax = plt.subplots(figsize=(7, 6))\n",
    "cm_test = confusion_matrix(y_test, pred_test)\n",
    "ConfusionMatrixDisplay(cm_test, display_labels=target_names_iris).plot(ax=ax)\n",
    "ax.grid(False)"
   ]
  },
  {
   "cell_type": "code",
   "execution_count": null,
   "id": "48e3efae",
   "metadata": {},
   "outputs": [],
   "source": [
    "print(classification_report(y_test, pred_test, target_names=target_names_iris))"
   ]
  },
  {
   "cell_type": "code",
   "execution_count": null,
   "id": "97538b0a",
   "metadata": {},
   "outputs": [],
   "source": []
  }
 ],
 "metadata": {
  "kernelspec": {
   "display_name": "Python 3 (ipykernel)",
   "language": "python",
   "name": "python3"
  },
  "language_info": {
   "codemirror_mode": {
    "name": "ipython",
    "version": 3
   },
   "file_extension": ".py",
   "mimetype": "text/x-python",
   "name": "python",
   "nbconvert_exporter": "python",
   "pygments_lexer": "ipython3",
   "version": "3.13.0"
  }
 },
 "nbformat": 4,
 "nbformat_minor": 5
}
