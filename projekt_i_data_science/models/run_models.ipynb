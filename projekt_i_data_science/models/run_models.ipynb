{
 "cells": [
  {
   "cell_type": "code",
   "execution_count": 10,
   "id": "01fe5252",
   "metadata": {},
   "outputs": [],
   "source": [
    "import joblib\n",
    "import pandas as pd"
   ]
  },
  {
   "cell_type": "code",
   "execution_count": 11,
   "id": "d364fcb6",
   "metadata": {},
   "outputs": [],
   "source": [
    "home_model = joblib.load('home_best.joblib')\n",
    "away_model = joblib.load('away_best.joblib')"
   ]
  },
  {
   "cell_type": "code",
   "execution_count": 12,
   "id": "7d2debaa",
   "metadata": {},
   "outputs": [
    {
     "name": "stdout",
     "output_type": "stream",
     "text": [
      "Prediction: 2.5275979126309016\n"
     ]
    }
   ],
   "source": [
    "features = [\n",
    "    'close_line_total',\n",
    "    'close_odds_total_over',\n",
    "    'close_odds_total_under',\n",
    "    'close_odds_ah_1',\n",
    "    'close_odds_ah_2',\n",
    "    'close_line_ah_1',\n",
    "    'close_line_ah_2'\n",
    "]\n",
    "values = [9.5, 1.9, 1.9, 1.9, 1.9, -1, 1]\n",
    "X_new = pd.DataFrame([values], columns=features)\n",
    "\n",
    "prediction = home_model.predict(X_new)\n",
    "print(\"Prediction:\", prediction[0])"
   ]
  }
 ],
 "metadata": {
  "kernelspec": {
   "display_name": "Python 3",
   "language": "python",
   "name": "python3"
  },
  "language_info": {
   "codemirror_mode": {
    "name": "ipython",
    "version": 3
   },
   "file_extension": ".py",
   "mimetype": "text/x-python",
   "name": "python",
   "nbconvert_exporter": "python",
   "pygments_lexer": "ipython3",
   "version": "3.12.5"
  }
 },
 "nbformat": 4,
 "nbformat_minor": 5
}
