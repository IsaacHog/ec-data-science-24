{
 "cells": [
  {
   "cell_type": "code",
   "execution_count": 10,
   "id": "01fe5252",
   "metadata": {},
   "outputs": [],
   "source": [
    "import joblib\n",
    "import pandas as pd"
   ]
  },
  {
   "cell_type": "code",
   "execution_count": 11,
   "id": "d364fcb6",
   "metadata": {},
   "outputs": [],
   "source": [
    "home_model = joblib.load('home_best.joblib')\n",
    "away_model = joblib.load('away_best.joblib')"
   ]
  },
  {
   "cell_type": "code",
   "execution_count": 18,
   "id": "7d2debaa",
   "metadata": {},
   "outputs": [
    {
     "name": "stdout",
     "output_type": "stream",
     "text": [
      "Prediction: 3.212563046963292\n"
     ]
    }
   ],
   "source": [
    "features = [\n",
    "    'close_line_total',\n",
    "    'close_odds_total_over',\n",
    "    'close_odds_total_under',\n",
    "    'close_odds_ah_1',\n",
    "    'close_odds_ah_2',\n",
    "    'close_line_ah_1',\n",
    "    'close_line_ah_2'\n",
    "]\n",
    "values = [8.5, 1.66, 2.1, 1.925, 1.875, 1.5, -1.5]\n",
    "X_new = pd.DataFrame([values], columns=features)\n",
    "\n",
    "prediction = away_model.predict(X_new)\n",
    "print(\"Prediction:\", prediction[0])"
   ]
  },
  {
   "cell_type": "markdown",
   "id": "a0a85a08",
   "metadata": {},
   "source": [
    "<h1>Test examples:</h1>\n",
    "\n",
    "<h4>Sevilla v Mallorca - 18/10 - 25</h4>\n",
    "Features: [9.5, 1.9, 1.8, 1.975, 1.825, -2, 2]<br>\n",
    "Home: 2.976 <br>\n",
    "Away: 1.811 <br>\n",
    "\n",
    "<h4>Mainz v Bayer Leverkusen - 18/10 - 25</h4>\n",
    "Features: [9.5, 1.66, 2.1, 1.9, 1.9, -0.5, 0.5]<br>\n",
    "Home: 2.408 <br>\n",
    "Away: 1.715 <br>\n",
    "\n",
    "<h4>Torino v Napoli - 18/10 - 25</h4>\n",
    "Features: [8.5, 1.66, 2.1, 1.925, 1.875, 1.5, -1.5]<br>\n",
    "Home: 1.564 <br>\n",
    "Away: 3.212 <br>"
   ]
  },
  {
   "cell_type": "markdown",
   "id": "69a571cb",
   "metadata": {},
   "source": [
    "The test examples do seem reasonable, the favorite is likely to make the most corners in each prediction."
   ]
  }
 ],
 "metadata": {
  "kernelspec": {
   "display_name": "Python 3",
   "language": "python",
   "name": "python3"
  },
  "language_info": {
   "codemirror_mode": {
    "name": "ipython",
    "version": 3
   },
   "file_extension": ".py",
   "mimetype": "text/x-python",
   "name": "python",
   "nbconvert_exporter": "python",
   "pygments_lexer": "ipython3",
   "version": "3.12.5"
  }
 },
 "nbformat": 4,
 "nbformat_minor": 5
}
