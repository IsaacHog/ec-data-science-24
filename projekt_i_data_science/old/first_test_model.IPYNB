{
 "cells": [
  {
   "cell_type": "code",
   "execution_count": 1,
   "id": "1b20a54d",
   "metadata": {},
   "outputs": [],
   "source": [
    "import pandas as pd\n",
    "import numpy as np\n",
    "from sklearn.preprocessing import StandardScaler\n",
    "from sklearn.cluster import KMeans, DBSCAN\n",
    "from sklearn.metrics import silhouette_score\n",
    "import matplotlib.pyplot as plt\n",
    "import seaborn as sns"
   ]
  },
  {
   "cell_type": "code",
   "execution_count": 15,
   "id": "436a4cb5",
   "metadata": {},
   "outputs": [],
   "source": [
    "df = pd.read_csv(\"full_time_log.csv\")\n",
    "\n",
    "odds_cols = ['home_odds', 'even_odds', 'away_odds', 'over_4_5_cards', 'over_2_5_goals']\n",
    "df[odds_cols] = df[odds_cols] / 1000"
   ]
  },
  {
   "cell_type": "code",
   "execution_count": 22,
   "id": "8fd9dff7",
   "metadata": {},
   "outputs": [
    {
     "name": "stdout",
     "output_type": "stream",
     "text": [
      "           event_id  home_odds  even_odds  away_odds  over_4_5_cards  \\\n",
      "count  9.000000e+00   9.000000   9.000000   9.000000        9.000000   \n",
      "mean   1.023433e+09   5.996667   6.100000   7.552222        2.414444   \n",
      "std    7.608565e+05  13.139276   2.809471   5.159118        0.884804   \n",
      "min    1.022336e+09   1.160000   3.250000   1.040000        1.200000   \n",
      "25%    1.023169e+09   1.280000   4.350000   2.900000        1.900000   \n",
      "50%    1.023225e+09   1.400000   6.000000   7.000000        2.100000   \n",
      "75%    1.024144e+09   2.250000   7.000000   9.500000        3.000000   \n",
      "max    1.024183e+09  41.000000  12.500000  15.000000        4.200000   \n",
      "\n",
      "       over_2_5_goals  prob_home  prob_draw  prob_away  prob_over_2_5  \\\n",
      "count        9.000000   9.000000   9.000000   9.000000       9.000000   \n",
      "mean         1.592222   0.606757   0.190849   0.264797       0.643187   \n",
      "std          0.279364   0.281828   0.072699   0.288336       0.098256   \n",
      "min          1.320000   0.024390   0.080000   0.066667       0.454545   \n",
      "25%          1.400000   0.444444   0.142857   0.105263       0.578035   \n",
      "50%          1.460000   0.714286   0.166667   0.142857       0.684932   \n",
      "75%          1.730000   0.781250   0.229885   0.344828       0.714286   \n",
      "max          2.200000   0.862069   0.307692   0.961538       0.757576   \n",
      "\n",
      "       prob_over_4_5_cards  fav_odds  1x2_spread  goal_card_ratio  goal_bias  \\\n",
      "count             9.000000  9.000000    9.000000         9.000000   9.000000   \n",
      "mean              0.465348  1.504444   10.656667         1.598684   0.289052   \n",
      "std               0.172469  0.496365   11.953513         0.780889   0.098882   \n",
      "min               0.238095  1.040000    0.820000         0.821918   0.099865   \n",
      "25%               0.333333  1.170000    4.070000         1.011236   0.221398   \n",
      "50%               0.476190  1.280000    8.220000         1.283951   0.333872   \n",
      "75%               0.526316  1.530000   13.830000         2.054795   0.359544   \n",
      "max               0.833333  2.430000   39.960000         3.181818   0.402266   \n",
      "\n",
      "       card_bias  cluster_kmeans  cluster_dbscan  \n",
      "count   9.000000        9.000000             9.0  \n",
      "mean    0.111213        0.888889            -1.0  \n",
      "std     0.173065        1.166667             0.0  \n",
      "min    -0.117214        0.000000            -1.0  \n",
      "25%    -0.017727        0.000000            -1.0  \n",
      "50%     0.119554        0.000000            -1.0  \n",
      "75%     0.171635        2.000000            -1.0  \n",
      "max     0.482273        3.000000            -1.0  \n"
     ]
    }
   ],
   "source": [
    "# Implied probabilities\n",
    "df['prob_home'] = 1 / df['home_odds']\n",
    "df['prob_draw'] = 1 / df['even_odds']\n",
    "df['prob_away'] = 1 / df['away_odds']\n",
    "df['prob_over_2_5'] = 1 / df['over_2_5_goals']\n",
    "df['prob_over_4_5_cards'] = 1 / df['over_4_5_cards']\n",
    "\n",
    "# Derived features\n",
    "df['fav_odds'] = df[['home_odds', 'even_odds', 'away_odds']].min(axis=1)\n",
    "df['1x2_spread'] = df[['home_odds', 'even_odds', 'away_odds']].max(axis=1) - df['fav_odds']\n",
    "df['goal_card_ratio'] = df['prob_over_2_5'] / df['prob_over_4_5_cards']\n",
    "df['goal_bias'] = df['prob_over_2_5'] - df[['prob_home', 'prob_draw', 'prob_away']].mean(axis=1)\n",
    "df['card_bias'] = df['prob_over_4_5_cards'] - df[['prob_home', 'prob_draw', 'prob_away']].mean(axis=1)\n",
    "print(df.describe())\n"
   ]
  },
  {
   "cell_type": "code",
   "execution_count": 24,
   "id": "81dbaf1c",
   "metadata": {},
   "outputs": [
    {
     "name": "stdout",
     "output_type": "stream",
     "text": [
      "       prob_home  prob_draw  prob_away  prob_over_2_5  prob_over_4_5_cards  \\\n",
      "count   9.000000   9.000000   9.000000       9.000000             9.000000   \n",
      "mean    0.606757   0.190849   0.264797       0.643187             0.465348   \n",
      "std     0.281828   0.072699   0.288336       0.098256             0.172469   \n",
      "min     0.024390   0.080000   0.066667       0.454545             0.238095   \n",
      "25%     0.444444   0.142857   0.105263       0.578035             0.333333   \n",
      "50%     0.714286   0.166667   0.142857       0.684932             0.476190   \n",
      "75%     0.781250   0.229885   0.344828       0.714286             0.526316   \n",
      "max     0.862069   0.307692   0.961538       0.757576             0.833333   \n",
      "\n",
      "       fav_odds  1x2_spread  goal_card_ratio  goal_bias  card_bias  \n",
      "count  9.000000    9.000000         9.000000   9.000000   9.000000  \n",
      "mean   1.504444   10.656667         1.598684   0.289052   0.111213  \n",
      "std    0.496365   11.953513         0.780889   0.098882   0.173065  \n",
      "min    1.040000    0.820000         0.821918   0.099865  -0.117214  \n",
      "25%    1.170000    4.070000         1.011236   0.221398  -0.017727  \n",
      "50%    1.280000    8.220000         1.283951   0.333872   0.119554  \n",
      "75%    1.530000   13.830000         2.054795   0.359544   0.171635  \n",
      "max    2.430000   39.960000         3.181818   0.402266   0.482273  \n"
     ]
    }
   ],
   "source": [
    "features = ['prob_home', 'prob_draw', 'prob_away', 'prob_over_2_5', 'prob_over_4_5_cards',\n",
    "            'fav_odds', '1x2_spread', 'goal_card_ratio', 'goal_bias', 'card_bias']\n",
    "\n",
    "X = df[features].copy()\n",
    "scaler = StandardScaler()\n",
    "X_scaled = scaler.fit_transform(X)\n",
    "print(X.describe())"
   ]
  },
  {
   "cell_type": "code",
   "execution_count": 25,
   "id": "a743a3ed",
   "metadata": {},
   "outputs": [],
   "source": [
    "kmeans = KMeans(n_clusters=4, random_state=42)\n",
    "df['cluster_kmeans'] = kmeans.fit_predict(X_scaled)\n"
   ]
  },
  {
   "cell_type": "code",
   "execution_count": 33,
   "id": "10efd176",
   "metadata": {},
   "outputs": [],
   "source": [
    "dbscan = DBSCAN(eps=1.2, min_samples=1)\n",
    "df['cluster_dbscan'] = dbscan.fit_predict(X_scaled)\n"
   ]
  },
  {
   "cell_type": "code",
   "execution_count": 34,
   "id": "f8e18df0",
   "metadata": {},
   "outputs": [
    {
     "name": "stdout",
     "output_type": "stream",
     "text": [
      "KMeans Silhouette Score: 0.37\n",
      "DBSCAN Silhouette Score (utan outliers): 0.34\n"
     ]
    }
   ],
   "source": [
    "score_kmeans = silhouette_score(X_scaled, df['cluster_kmeans'])\n",
    "score_dbscan = silhouette_score(X_scaled, df['cluster_dbscan'][df['cluster_dbscan'] != -1])\n",
    "\n",
    "print(f\"KMeans Silhouette Score: {score_kmeans:.2f}\")\n",
    "print(f\"DBSCAN Silhouette Score (utan outliers): {score_dbscan:.2f}\")\n"
   ]
  },
  {
   "cell_type": "code",
   "execution_count": 35,
   "id": "a7588528",
   "metadata": {},
   "outputs": [
    {
     "data": {
      "image/png": "[encoded data removed]",
      "text/plain": [
       "<Figure size 640x480 with 1 Axes>"
      ]
     },
     "metadata": {},
     "output_type": "display_data"
    },
    {
     "data": {
      "image/png": "[encoded data removed]",
      "text/plain": [
       "<Figure size 640x480 with 1 Axes>"
      ]
     },
     "metadata": {},
     "output_type": "display_data"
    }
   ],
   "source": [
    "sns.scatterplot(x=X_scaled[:, 0], y=X_scaled[:, 1], hue=df['cluster_kmeans'], palette='tab10')\n",
    "plt.title(\"KMeans klustring\")\n",
    "plt.show()\n",
    "\n",
    "sns.scatterplot(x=X_scaled[:, 0], y=X_scaled[:, 1], hue=df['cluster_dbscan'], palette='tab10')\n",
    "plt.title(\"DBSCAN klustring\")\n",
    "plt.show()\n"
   ]
  },
  {
   "cell_type": "code",
   "execution_count": 37,
   "id": "b7ec888a",
   "metadata": {},
   "outputs": [
    {
     "data": {
      "image/png": "[encoded data removed]",
      "text/plain": [
       "<Figure size 640x480 with 1 Axes>"
      ]
     },
     "metadata": {},
     "output_type": "display_data"
    },
    {
     "data": {
      "text/html": [
       "<div>\n",
       "<style scoped>\n",
       "    .dataframe tbody tr th:only-of-type {\n",
       "        vertical-align: middle;\n",
       "    }\n",
       "\n",
       "    .dataframe tbody tr th {\n",
       "        vertical-align: top;\n",
       "    }\n",
       "\n",
       "    .dataframe thead th {\n",
       "        text-align: right;\n",
       "    }\n",
       "</style>\n",
       "<table border=\"1\" class=\"dataframe\">\n",
       "  <thead>\n",
       "    <tr style=\"text-align: right;\">\n",
       "      <th></th>\n",
       "      <th>prob_home</th>\n",
       "      <th>prob_draw</th>\n",
       "      <th>prob_away</th>\n",
       "      <th>prob_over_2_5</th>\n",
       "      <th>prob_over_4_5_cards</th>\n",
       "      <th>fav_odds</th>\n",
       "      <th>1x2_spread</th>\n",
       "      <th>goal_card_ratio</th>\n",
       "      <th>goal_bias</th>\n",
       "      <th>card_bias</th>\n",
       "    </tr>\n",
       "    <tr>\n",
       "      <th>cluster_kmeans</th>\n",
       "      <th></th>\n",
       "      <th></th>\n",
       "      <th></th>\n",
       "      <th></th>\n",
       "      <th></th>\n",
       "      <th></th>\n",
       "      <th></th>\n",
       "      <th></th>\n",
       "      <th></th>\n",
       "      <th></th>\n",
       "    </tr>\n",
       "  </thead>\n",
       "  <tbody>\n",
       "    <tr>\n",
       "      <th>0</th>\n",
       "      <td>0.77</td>\n",
       "      <td>0.18</td>\n",
       "      <td>0.11</td>\n",
       "      <td>0.67</td>\n",
       "      <td>0.41</td>\n",
       "      <td>1.31</td>\n",
       "      <td>9.11</td>\n",
       "      <td>1.70</td>\n",
       "      <td>0.31</td>\n",
       "      <td>0.05</td>\n",
       "    </tr>\n",
       "    <tr>\n",
       "      <th>1</th>\n",
       "      <td>0.02</td>\n",
       "      <td>0.08</td>\n",
       "      <td>0.96</td>\n",
       "      <td>0.76</td>\n",
       "      <td>0.24</td>\n",
       "      <td>1.04</td>\n",
       "      <td>39.96</td>\n",
       "      <td>3.18</td>\n",
       "      <td>0.40</td>\n",
       "      <td>-0.12</td>\n",
       "    </tr>\n",
       "    <tr>\n",
       "      <th>2</th>\n",
       "      <td>0.39</td>\n",
       "      <td>0.29</td>\n",
       "      <td>0.38</td>\n",
       "      <td>0.51</td>\n",
       "      <td>0.54</td>\n",
       "      <td>2.34</td>\n",
       "      <td>1.08</td>\n",
       "      <td>0.94</td>\n",
       "      <td>0.15</td>\n",
       "      <td>0.19</td>\n",
       "    </tr>\n",
       "    <tr>\n",
       "      <th>3</th>\n",
       "      <td>0.78</td>\n",
       "      <td>0.17</td>\n",
       "      <td>0.11</td>\n",
       "      <td>0.68</td>\n",
       "      <td>0.83</td>\n",
       "      <td>1.28</td>\n",
       "      <td>8.22</td>\n",
       "      <td>0.82</td>\n",
       "      <td>0.33</td>\n",
       "      <td>0.48</td>\n",
       "    </tr>\n",
       "  </tbody>\n",
       "</table>\n",
       "</div>"
      ],
      "text/plain": [
       "                prob_home  prob_draw  prob_away  prob_over_2_5  \\\n",
       "cluster_kmeans                                                   \n",
       "0                    0.77       0.18       0.11           0.67   \n",
       "1                    0.02       0.08       0.96           0.76   \n",
       "2                    0.39       0.29       0.38           0.51   \n",
       "3                    0.78       0.17       0.11           0.68   \n",
       "\n",
       "                prob_over_4_5_cards  fav_odds  1x2_spread  goal_card_ratio  \\\n",
       "cluster_kmeans                                                               \n",
       "0                              0.41      1.31        9.11             1.70   \n",
       "1                              0.24      1.04       39.96             3.18   \n",
       "2                              0.54      2.34        1.08             0.94   \n",
       "3                              0.83      1.28        8.22             0.82   \n",
       "\n",
       "                goal_bias  card_bias  \n",
       "cluster_kmeans                        \n",
       "0                    0.31       0.05  \n",
       "1                    0.40      -0.12  \n",
       "2                    0.15       0.19  \n",
       "3                    0.33       0.48  "
      ]
     },
     "execution_count": 37,
     "metadata": {},
     "output_type": "execute_result"
    }
   ],
   "source": [
    "from sklearn.decomposition import PCA\n",
    "\n",
    "pca = PCA(n_components=2)\n",
    "X_pca = pca.fit_transform(X_scaled)\n",
    "\n",
    "sns.scatterplot(x=X_pca[:, 0], y=X_pca[:, 1], hue=df['cluster_kmeans'], palette='tab10')\n",
    "plt.title(\"KMeans klustring med PCA\")\n",
    "plt.show()\n",
    "\n",
    "df.groupby('cluster_kmeans')[features].mean().round(2)"
   ]
  },
  {
   "cell_type": "code",
   "execution_count": 39,
   "id": "290258f2",
   "metadata": {},
   "outputs": [
    {
     "ename": "KeyError",
     "evalue": "'cluster_col'",
     "output_type": "error",
     "traceback": [
      "\u001b[1;31m---------------------------------------------------------------------------\u001b[0m",
      "\u001b[1;31mKeyError\u001b[0m                                  Traceback (most recent call last)",
      "File \u001b[1;32mc:\\Users\\Isaac\\AppData\\Local\\Programs\\Python\\Python310\\lib\\site-packages\\pandas\\core\\indexes\\base.py:3803\u001b[0m, in \u001b[0;36mIndex.get_loc\u001b[1;34m(self, key, method, tolerance)\u001b[0m\n\u001b[0;32m   3802\u001b[0m \u001b[38;5;28;01mtry\u001b[39;00m:\n\u001b[1;32m-> 3803\u001b[0m     \u001b[38;5;28;01mreturn\u001b[39;00m \u001b[38;5;28;43mself\u001b[39;49m\u001b[38;5;241;43m.\u001b[39;49m\u001b[43m_engine\u001b[49m\u001b[38;5;241;43m.\u001b[39;49m\u001b[43mget_loc\u001b[49m\u001b[43m(\u001b[49m\u001b[43mcasted_key\u001b[49m\u001b[43m)\u001b[49m\n\u001b[0;32m   3804\u001b[0m \u001b[38;5;28;01mexcept\u001b[39;00m \u001b[38;5;167;01mKeyError\u001b[39;00m \u001b[38;5;28;01mas\u001b[39;00m err:\n",
      "File \u001b[1;32mc:\\Users\\Isaac\\AppData\\Local\\Programs\\Python\\Python310\\lib\\site-packages\\pandas\\_libs\\index.pyx:138\u001b[0m, in \u001b[0;36mpandas._libs.index.IndexEngine.get_loc\u001b[1;34m()\u001b[0m\n",
      "File \u001b[1;32mc:\\Users\\Isaac\\AppData\\Local\\Programs\\Python\\Python310\\lib\\site-packages\\pandas\\_libs\\index.pyx:165\u001b[0m, in \u001b[0;36mpandas._libs.index.IndexEngine.get_loc\u001b[1;34m()\u001b[0m\n",
      "File \u001b[1;32mpandas\\_libs\\hashtable_class_helper.pxi:5745\u001b[0m, in \u001b[0;36mpandas._libs.hashtable.PyObjectHashTable.get_item\u001b[1;34m()\u001b[0m\n",
      "File \u001b[1;32mpandas\\_libs\\hashtable_class_helper.pxi:5753\u001b[0m, in \u001b[0;36mpandas._libs.hashtable.PyObjectHashTable.get_item\u001b[1;34m()\u001b[0m\n",
      "\u001b[1;31mKeyError\u001b[0m: 'cluster_col'",
      "\nThe above exception was the direct cause of the following exception:\n",
      "\u001b[1;31mKeyError\u001b[0m                                  Traceback (most recent call last)",
      "Cell \u001b[1;32mIn[39], line 25\u001b[0m\n\u001b[0;32m     23\u001b[0m match \u001b[38;5;241m=\u001b[39m row[\u001b[38;5;124m'\u001b[39m\u001b[38;5;124mmatch_name\u001b[39m\u001b[38;5;124m'\u001b[39m]\n\u001b[0;32m     24\u001b[0m start \u001b[38;5;241m=\u001b[39m row[\u001b[38;5;124m'\u001b[39m\u001b[38;5;124mevent_start\u001b[39m\u001b[38;5;124m'\u001b[39m]\n\u001b[1;32m---> 25\u001b[0m cluster \u001b[38;5;241m=\u001b[39m \u001b[43mrow\u001b[49m\u001b[43m[\u001b[49m\u001b[38;5;124;43m'\u001b[39;49m\u001b[38;5;124;43mcluster_col\u001b[39;49m\u001b[38;5;124;43m'\u001b[39;49m\u001b[43m]\u001b[49m\n\u001b[0;32m     27\u001b[0m \u001b[38;5;28;01mif\u001b[39;00m cluster \u001b[38;5;129;01min\u001b[39;00m kluster_tolkning:\n\u001b[0;32m     28\u001b[0m     typ \u001b[38;5;241m=\u001b[39m kluster_tolkning[cluster][\u001b[38;5;124m'\u001b[39m\u001b[38;5;124mtyp\u001b[39m\u001b[38;5;124m'\u001b[39m]\n",
      "File \u001b[1;32mc:\\Users\\Isaac\\AppData\\Local\\Programs\\Python\\Python310\\lib\\site-packages\\pandas\\core\\series.py:981\u001b[0m, in \u001b[0;36mSeries.__getitem__\u001b[1;34m(self, key)\u001b[0m\n\u001b[0;32m    978\u001b[0m     \u001b[38;5;28;01mreturn\u001b[39;00m \u001b[38;5;28mself\u001b[39m\u001b[38;5;241m.\u001b[39m_values[key]\n\u001b[0;32m    980\u001b[0m \u001b[38;5;28;01melif\u001b[39;00m key_is_scalar:\n\u001b[1;32m--> 981\u001b[0m     \u001b[38;5;28;01mreturn\u001b[39;00m \u001b[38;5;28;43mself\u001b[39;49m\u001b[38;5;241;43m.\u001b[39;49m\u001b[43m_get_value\u001b[49m\u001b[43m(\u001b[49m\u001b[43mkey\u001b[49m\u001b[43m)\u001b[49m\n\u001b[0;32m    983\u001b[0m \u001b[38;5;28;01mif\u001b[39;00m is_hashable(key):\n\u001b[0;32m    984\u001b[0m     \u001b[38;5;66;03m# Otherwise index.get_value will raise InvalidIndexError\u001b[39;00m\n\u001b[0;32m    985\u001b[0m     \u001b[38;5;28;01mtry\u001b[39;00m:\n\u001b[0;32m    986\u001b[0m         \u001b[38;5;66;03m# For labels that don't resolve as scalars like tuples and frozensets\u001b[39;00m\n",
      "File \u001b[1;32mc:\\Users\\Isaac\\AppData\\Local\\Programs\\Python\\Python310\\lib\\site-packages\\pandas\\core\\series.py:1089\u001b[0m, in \u001b[0;36mSeries._get_value\u001b[1;34m(self, label, takeable)\u001b[0m\n\u001b[0;32m   1086\u001b[0m     \u001b[38;5;28;01mreturn\u001b[39;00m \u001b[38;5;28mself\u001b[39m\u001b[38;5;241m.\u001b[39m_values[label]\n\u001b[0;32m   1088\u001b[0m \u001b[38;5;66;03m# Similar to Index.get_value, but we do not fall back to positional\u001b[39;00m\n\u001b[1;32m-> 1089\u001b[0m loc \u001b[38;5;241m=\u001b[39m \u001b[38;5;28;43mself\u001b[39;49m\u001b[38;5;241;43m.\u001b[39;49m\u001b[43mindex\u001b[49m\u001b[38;5;241;43m.\u001b[39;49m\u001b[43mget_loc\u001b[49m\u001b[43m(\u001b[49m\u001b[43mlabel\u001b[49m\u001b[43m)\u001b[49m\n\u001b[0;32m   1090\u001b[0m \u001b[38;5;28;01mreturn\u001b[39;00m \u001b[38;5;28mself\u001b[39m\u001b[38;5;241m.\u001b[39mindex\u001b[38;5;241m.\u001b[39m_get_values_for_loc(\u001b[38;5;28mself\u001b[39m, loc, label)\n",
      "File \u001b[1;32mc:\\Users\\Isaac\\AppData\\Local\\Programs\\Python\\Python310\\lib\\site-packages\\pandas\\core\\indexes\\base.py:3805\u001b[0m, in \u001b[0;36mIndex.get_loc\u001b[1;34m(self, key, method, tolerance)\u001b[0m\n\u001b[0;32m   3803\u001b[0m     \u001b[38;5;28;01mreturn\u001b[39;00m \u001b[38;5;28mself\u001b[39m\u001b[38;5;241m.\u001b[39m_engine\u001b[38;5;241m.\u001b[39mget_loc(casted_key)\n\u001b[0;32m   3804\u001b[0m \u001b[38;5;28;01mexcept\u001b[39;00m \u001b[38;5;167;01mKeyError\u001b[39;00m \u001b[38;5;28;01mas\u001b[39;00m err:\n\u001b[1;32m-> 3805\u001b[0m     \u001b[38;5;28;01mraise\u001b[39;00m \u001b[38;5;167;01mKeyError\u001b[39;00m(key) \u001b[38;5;28;01mfrom\u001b[39;00m\u001b[38;5;250m \u001b[39m\u001b[38;5;21;01merr\u001b[39;00m\n\u001b[0;32m   3806\u001b[0m \u001b[38;5;28;01mexcept\u001b[39;00m \u001b[38;5;167;01mTypeError\u001b[39;00m:\n\u001b[0;32m   3807\u001b[0m     \u001b[38;5;66;03m# If we have a listlike key, _check_indexing_error will raise\u001b[39;00m\n\u001b[0;32m   3808\u001b[0m     \u001b[38;5;66;03m#  InvalidIndexError. Otherwise we fall through and re-raise\u001b[39;00m\n\u001b[0;32m   3809\u001b[0m     \u001b[38;5;66;03m#  the TypeError.\u001b[39;00m\n\u001b[0;32m   3810\u001b[0m     \u001b[38;5;28mself\u001b[39m\u001b[38;5;241m.\u001b[39m_check_indexing_error(key)\n",
      "\u001b[1;31mKeyError\u001b[0m: 'cluster_col'"
     ]
    }
   ],
   "source": [
    "\n",
    "# Definiera tolkningar för varje kluster\n",
    "kluster_tolkning = {\n",
    "    0: {\n",
    "        'typ': 'Hemmastyrd offensiv match',\n",
    "        'beskrivning': 'Starkt hemmalag, hög målförväntan, låg fysisk intensitet.'\n",
    "    },\n",
    "    1: {\n",
    "        'typ': 'Bortadominans med offensiv prägel',\n",
    "        'beskrivning': 'Starkt bortalag, hög målförväntan, låg fysisk kontakt.'\n",
    "    },\n",
    "    2: {\n",
    "        'typ': 'Jämn och balanserad match',\n",
    "        'beskrivning': 'Likvärdiga lag, måttlig offensiv och fysisk intensitet.'\n",
    "    },\n",
    "    3: {\n",
    "        'typ': 'Hemmastyrd fysisk offensiv',\n",
    "        'beskrivning': 'Starkt hemmalag, både offensiv och fysisk förväntan.'\n",
    "    }\n",
    "}\n",
    "\n",
    "# Iterera över varje match\n",
    "for _, row in df.iterrows():\n",
    "    match = row['match_name']\n",
    "    start = row['event_start']\n",
    "    cluster = row['cluster_col']\n",
    "    \n",
    "    if cluster in kluster_tolkning:\n",
    "        typ = kluster_tolkning[cluster]['typ']\n",
    "        beskrivning = kluster_tolkning[cluster]['beskrivning']\n",
    "    else:\n",
    "        typ = \"Okänt kluster\"\n",
    "        beskrivning = \"Ingen tolkning tillgänglig.\"\n",
    "\n",
    "    print(f\"📅 {start} – ⚽ {match}\")\n",
    "    print(f\"🧠 Kluster: {cluster} – {typ}\")\n",
    "    print(f\"📝 Förväntad matchbild: {beskrivning}\")\n",
    "    print(\"-\" * 60)"
   ]
  }
 ],
 "metadata": {
  "kernelspec": {
   "display_name": "Python 3",
   "language": "python",
   "name": "python3"
  },
  "language_info": {
   "codemirror_mode": {
    "name": "ipython",
    "version": 3
   },
   "file_extension": ".py",
   "mimetype": "text/x-python",
   "name": "python",
   "nbconvert_exporter": "python",
   "pygments_lexer": "ipython3",
   "version": "3.10.8"
  }
 },
 "nbformat": 4,
 "nbformat_minor": 5
}
