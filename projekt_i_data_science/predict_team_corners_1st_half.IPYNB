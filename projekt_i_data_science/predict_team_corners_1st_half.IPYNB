{
 "cells": [
  {
   "cell_type": "code",
   "execution_count": 68,
   "id": "a99ae84c",
   "metadata": {},
   "outputs": [],
   "source": [
    "import pandas as pd\n",
    "import numpy as np\n",
    "from sklearn.model_selection import train_test_split\n",
    "from sklearn.linear_model import LinearRegression\n",
    "from sklearn.ensemble import RandomForestRegressor, GradientBoostingRegressor\n",
    "from sklearn.metrics import mean_absolute_error, root_mean_squared_error\n",
    "import matplotlib.pyplot as plt\n",
    "import seaborn as sns\n"
   ]
  },
  {
   "cell_type": "code",
   "execution_count": 91,
   "id": "b1409f75",
   "metadata": {},
   "outputs": [
    {
     "name": "stdout",
     "output_type": "stream",
     "text": [
      "close_odds_total_over     0\n",
      "close_odds_total_under    0\n",
      "close_odds_ah_1           0\n",
      "close_odds_ah_2           0\n",
      "close_line_ah_1           0\n",
      "close_line_ah_2           0\n",
      "dtype: int64\n",
      "target_home 0\n",
      "target_away 0\n"
     ]
    },
    {
     "data": {
      "text/html": [
       "<div>\n",
       "<style scoped>\n",
       "    .dataframe tbody tr th:only-of-type {\n",
       "        vertical-align: middle;\n",
       "    }\n",
       "\n",
       "    .dataframe tbody tr th {\n",
       "        vertical-align: top;\n",
       "    }\n",
       "\n",
       "    .dataframe thead th {\n",
       "        text-align: right;\n",
       "    }\n",
       "</style>\n",
       "<table border=\"1\" class=\"dataframe\">\n",
       "  <thead>\n",
       "    <tr style=\"text-align: right;\">\n",
       "      <th></th>\n",
       "      <th>close_odds_total_over</th>\n",
       "      <th>close_odds_total_under</th>\n",
       "      <th>close_odds_ah_1</th>\n",
       "      <th>close_odds_ah_2</th>\n",
       "      <th>close_line_ah_1</th>\n",
       "      <th>close_line_ah_2</th>\n",
       "    </tr>\n",
       "  </thead>\n",
       "  <tbody>\n",
       "    <tr>\n",
       "      <th>count</th>\n",
       "      <td>2360.000000</td>\n",
       "      <td>2360.000000</td>\n",
       "      <td>2360.000000</td>\n",
       "      <td>2360.000000</td>\n",
       "      <td>2360.000000</td>\n",
       "      <td>2360.000000</td>\n",
       "    </tr>\n",
       "    <tr>\n",
       "      <th>mean</th>\n",
       "      <td>1.914953</td>\n",
       "      <td>1.916924</td>\n",
       "      <td>1.916305</td>\n",
       "      <td>1.915305</td>\n",
       "      <td>-0.840784</td>\n",
       "      <td>0.840784</td>\n",
       "    </tr>\n",
       "    <tr>\n",
       "      <th>std</th>\n",
       "      <td>0.065407</td>\n",
       "      <td>0.066185</td>\n",
       "      <td>0.062467</td>\n",
       "      <td>0.062597</td>\n",
       "      <td>1.583548</td>\n",
       "      <td>1.583548</td>\n",
       "    </tr>\n",
       "    <tr>\n",
       "      <th>min</th>\n",
       "      <td>1.760000</td>\n",
       "      <td>1.740000</td>\n",
       "      <td>1.690000</td>\n",
       "      <td>1.670000</td>\n",
       "      <td>-6.500000</td>\n",
       "      <td>-5.000000</td>\n",
       "    </tr>\n",
       "    <tr>\n",
       "      <th>25%</th>\n",
       "      <td>1.860000</td>\n",
       "      <td>1.860000</td>\n",
       "      <td>1.860000</td>\n",
       "      <td>1.860000</td>\n",
       "      <td>-2.000000</td>\n",
       "      <td>0.000000</td>\n",
       "    </tr>\n",
       "    <tr>\n",
       "      <th>50%</th>\n",
       "      <td>1.920000</td>\n",
       "      <td>1.920000</td>\n",
       "      <td>1.920000</td>\n",
       "      <td>1.920000</td>\n",
       "      <td>-1.000000</td>\n",
       "      <td>1.000000</td>\n",
       "    </tr>\n",
       "    <tr>\n",
       "      <th>75%</th>\n",
       "      <td>1.970000</td>\n",
       "      <td>1.970000</td>\n",
       "      <td>1.970000</td>\n",
       "      <td>1.970000</td>\n",
       "      <td>0.000000</td>\n",
       "      <td>2.000000</td>\n",
       "    </tr>\n",
       "    <tr>\n",
       "      <th>max</th>\n",
       "      <td>2.070000</td>\n",
       "      <td>2.070000</td>\n",
       "      <td>2.120000</td>\n",
       "      <td>2.170000</td>\n",
       "      <td>5.000000</td>\n",
       "      <td>6.500000</td>\n",
       "    </tr>\n",
       "  </tbody>\n",
       "</table>\n",
       "</div>"
      ],
      "text/plain": [
       "       close_odds_total_over  close_odds_total_under  close_odds_ah_1  \\\n",
       "count            2360.000000             2360.000000      2360.000000   \n",
       "mean                1.914953                1.916924         1.916305   \n",
       "std                 0.065407                0.066185         0.062467   \n",
       "min                 1.760000                1.740000         1.690000   \n",
       "25%                 1.860000                1.860000         1.860000   \n",
       "50%                 1.920000                1.920000         1.920000   \n",
       "75%                 1.970000                1.970000         1.970000   \n",
       "max                 2.070000                2.070000         2.120000   \n",
       "\n",
       "       close_odds_ah_2  close_line_ah_1  close_line_ah_2  \n",
       "count      2360.000000      2360.000000      2360.000000  \n",
       "mean          1.915305        -0.840784         0.840784  \n",
       "std           0.062597         1.583548         1.583548  \n",
       "min           1.670000        -6.500000        -5.000000  \n",
       "25%           1.860000        -2.000000         0.000000  \n",
       "50%           1.920000        -1.000000         1.000000  \n",
       "75%           1.970000         0.000000         2.000000  \n",
       "max           2.170000         5.000000         6.500000  "
      ]
     },
     "execution_count": 91,
     "metadata": {},
     "output_type": "execute_result"
    }
   ],
   "source": [
    "df = pd.read_csv(\"data_set.csv\")\n",
    "\n",
    "features = [\n",
    "    'close_odds_total_over',\n",
    "    'close_odds_total_under',\n",
    "    'close_odds_ah_1',\n",
    "    'close_odds_ah_2',\n",
    "    'close_line_ah_1',\n",
    "    'close_line_ah_2'\n",
    "]\n",
    "\n",
    "target_home = 'corners_result_home_1st_ht'\n",
    "target_away = 'corners_result_away_1st_ht'\n",
    "\n",
    "X = df[features]\n",
    "y_home = df[target_home]\n",
    "y_away = df[target_away]\n",
    "\n",
    "print(df[features].isna().sum()) \n",
    "print(f'target_home {df[target_home].isna().sum()}')\n",
    "print(f'target_away {df[target_away].isna().sum()}')\n",
    "df[features].describe()"
   ]
  },
  {
   "cell_type": "code",
   "execution_count": 92,
   "id": "5375aea6",
   "metadata": {},
   "outputs": [],
   "source": [
    "# Train + val/test split\n",
    "X_train, X_temp, y_home_train, y_home_temp, y_away_train, y_away_temp = train_test_split(\n",
    "    X, y_home, y_away, test_size=0.3, random_state=42\n",
    ")\n",
    "\n",
    "# Validering + test split\n",
    "X_val, X_test, y_home_val, y_home_test, y_away_val, y_away_test = train_test_split(\n",
    "    X_temp, y_home_temp, y_away_temp, test_size=0.5, random_state=42\n",
    ")"
   ]
  },
  {
   "cell_type": "markdown",
   "id": "5e954278",
   "metadata": {},
   "source": [
    "<h2>Training"
   ]
  },
  {
   "cell_type": "code",
   "execution_count": 93,
   "id": "eba59154",
   "metadata": {},
   "outputs": [],
   "source": [
    "lr_home = LinearRegression().fit(X_train, y_home_train)\n",
    "lr_away = LinearRegression().fit(X_train, y_away_train)"
   ]
  },
  {
   "cell_type": "code",
   "execution_count": 94,
   "id": "6a54237e",
   "metadata": {},
   "outputs": [],
   "source": [
    "rf_home = RandomForestRegressor(random_state=42).fit(X_train, y_home_train)\n",
    "rf_away = RandomForestRegressor(random_state=42).fit(X_train, y_away_train)"
   ]
  },
  {
   "cell_type": "code",
   "execution_count": 95,
   "id": "d825e69f",
   "metadata": {},
   "outputs": [],
   "source": [
    "gb_home = GradientBoostingRegressor(random_state=42).fit(X_train, y_home_train)\n",
    "gb_away = GradientBoostingRegressor(random_state=42).fit(X_train, y_away_train)"
   ]
  },
  {
   "cell_type": "markdown",
   "id": "72fc00ba",
   "metadata": {},
   "source": [
    "<h2>Evaluation</h2>"
   ]
  },
  {
   "cell_type": "code",
   "execution_count": 96,
   "id": "1479e607",
   "metadata": {},
   "outputs": [
    {
     "name": "stdout",
     "output_type": "stream",
     "text": [
      "Home team:\n",
      "LinearRegression() - MAE: 1.41, RMSE: 1.81\n",
      "RandomForestRegressor(random_state=42) - MAE: 1.51, RMSE: 1.95\n",
      "GradientBoostingRegressor(random_state=42) - MAE: 1.43, RMSE: 1.84\n",
      "\n",
      "Away team:\n",
      "LinearRegression() - MAE: 1.20, RMSE: 1.54\n",
      "RandomForestRegressor(random_state=42) - MAE: 1.25, RMSE: 1.61\n",
      "GradientBoostingRegressor(random_state=42) - MAE: 1.22, RMSE: 1.55\n"
     ]
    }
   ],
   "source": [
    "def evaluate(model, X, y_true):\n",
    "    y_pred = model.predict(X)\n",
    "    mae = mean_absolute_error(y_true, y_pred)\n",
    "    rmse = root_mean_squared_error(y_true, y_pred)\n",
    "    print(f\"{model} - MAE: {mae:.2f}, RMSE: {rmse:.2f}\")\n",
    "    return mae, rmse\n",
    "\n",
    "print(\"Home team:\")\n",
    "evaluate(lr_home, X_val, y_home_val)\n",
    "evaluate(rf_home, X_val, y_home_val)\n",
    "evaluate(gb_home, X_val, y_home_val)\n",
    "\n",
    "print(\"\\nAway team:\")\n",
    "evaluate(lr_away, X_val, y_away_val)\n",
    "evaluate(rf_away, X_val, y_away_val)\n",
    "evaluate(gb_away, X_val, y_away_val)\n",
    "\n",
    "model_home = lr_home\n",
    "model_away = lr_away\n"
   ]
  },
  {
   "cell_type": "markdown",
   "id": "22a595a9",
   "metadata": {},
   "source": [
    "<h2>Train"
   ]
  },
  {
   "cell_type": "code",
   "execution_count": 97,
   "id": "5588ff56",
   "metadata": {},
   "outputs": [],
   "source": [
    "y_home_pred = model_home.predict(X_test)\n",
    "y_away_pred = model_away.predict(X_test)"
   ]
  },
  {
   "cell_type": "markdown",
   "id": "af26bdce",
   "metadata": {},
   "source": [
    "<h2>Analysis"
   ]
  },
  {
   "cell_type": "code",
   "execution_count": null,
   "id": "aae48054",
   "metadata": {},
   "outputs": [
    {
     "name": "stdout",
     "output_type": "stream",
     "text": [
      "Home team – Test MAE: 1.38, RMSE: 1.74\n",
      "Away team – Test MAE: 1.25, RMSE: 1.59\n",
      "\n",
      "Home team coeff:\n",
      "close_odds_total_over    -0.653449\n",
      "close_odds_total_under   -0.410997\n",
      "close_line_ah_1          -0.146358\n",
      "close_line_ah_2           0.146358\n",
      "close_odds_ah_1           2.909361\n",
      "close_odds_ah_2           3.067045\n",
      "dtype: float64\n",
      "Away team coeff:\n",
      "close_odds_ah_2          -8.789192\n",
      "close_odds_ah_1          -8.676782\n",
      "close_line_ah_2          -0.125213\n",
      "close_line_ah_1           0.125213\n",
      "close_odds_total_over     7.038844\n",
      "close_odds_total_under    7.192059\n",
      "dtype: float64\n"
     ]
    },
    {
     "data": {
      "image/png": "[encoded data removed]",
      "text/plain": [
       "<Figure size 600x400 with 1 Axes>"
      ]
     },
     "metadata": {},
     "output_type": "display_data"
    },
    {
     "data": {
      "image/png": "[encoded data removed]",
      "text/plain": [
       "<Figure size 600x400 with 1 Axes>"
      ]
     },
     "metadata": {},
     "output_type": "display_data"
    }
   ],
   "source": [
    "mae_home = mean_absolute_error(y_home_test, y_home_pred)\n",
    "rmse_home = root_mean_squared_error(y_home_test, y_home_pred)\n",
    "print(f\"Home team – Test MAE: {mae_home:.2f}, RMSE: {rmse_home:.2f}\")\n",
    "\n",
    "mae_away = mean_absolute_error(y_away_test, y_away_pred)\n",
    "rmse_away = root_mean_squared_error(y_away_test, y_away_pred)\n",
    "print(f\"Away team – Test MAE: {mae_away:.2f}, RMSE: {rmse_away:.2f}\")\n",
    "\n",
    "coeff_home = pd.Series(model_home.coef_, index=features).sort_values()\n",
    "coeff_away = pd.Series(model_away.coef_, index=features).sort_values()\n",
    "print(f'\\nHome team coeff:\\n{coeff_home}')\n",
    "print(f'Away team coeff:\\n{coeff_away}')"
   ]
  }
 ],
 "metadata": {
  "kernelspec": {
   "display_name": "Python 3",
   "language": "python",
   "name": "python3"
  },
  "language_info": {
   "codemirror_mode": {
    "name": "ipython",
    "version": 3
   },
   "file_extension": ".py",
   "mimetype": "text/x-python",
   "name": "python",
   "nbconvert_exporter": "python",
   "pygments_lexer": "ipython3",
   "version": "3.12.5"
  }
 },
 "nbformat": 4,
 "nbformat_minor": 5
}
