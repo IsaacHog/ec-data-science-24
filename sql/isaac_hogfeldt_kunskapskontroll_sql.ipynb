{
 "cells": [
  {
   "cell_type": "markdown",
   "metadata": {},
   "source": [
    "Teoretiska Frågor\n",
    "1. Beskriv kort hur en relationsdatabas fungerar.\n",
    "\n",
    "    En relationsdatabas organiserar data i \"tables\" som består av rader och kolumner. Primary keys och foreign keys (likt python dictionaries key-value) används för att hänvisa till olika tables.\n",
    "\n",
    "2. Vad menas med “CRUD”-flödet?\n",
    "\n",
    "    \"CRUD\"-flödet står för de operationer som man kan göra i sin data:\n",
    "    Create, Read, Update och Delete\n",
    "\n",
    "3. Beskriv kort vad en “left join” och en “inner join” är. Varför använder man det?\n",
    "\n",
    "    Left join används för att retunera alla rader i ett table samt matchande rader i ett annat table. Man kan se det som alla element i A i ett klassiskt venn-diagram.\n",
    "    Inner join blir A snitt B, alltså retuneras alla rader som matchar både i första (left) och andra (right) tabellen.\n",
    "    \n",
    "4. Beskriv kort vad indexering i SQL innebär.\n",
    "    Indexering skapar ytterligare data struktur som hänvisar till\n",
    "5. Beskriv kort vad en vy i SQL är.\n",
    "6. Beskriv kort vad en lagrad procedur i SQL är."
   ]
  },
  {
   "cell_type": "markdown",
   "metadata": {},
   "source": []
  }
 ],
 "metadata": {
  "language_info": {
   "name": "python"
  }
 },
 "nbformat": 4,
 "nbformat_minor": 2
}
