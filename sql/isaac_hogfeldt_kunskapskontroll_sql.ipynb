{
 "cells": [
  {
   "cell_type": "markdown",
   "metadata": {},
   "source": [
    "Teoretiska Frågor\n",
    "1. Beskriv kort hur en relationsdatabas fungerar.\n",
    "\n",
    "    En relationsdatabas organiserar data i \"tables\" som består av rader och kolumner. Primary keys och foreign keys (likt python dictionaries key-value) används för att hänvisa till olika tables.\n",
    "\n",
    "2. Vad menas med “CRUD”-flödet?\n",
    "\n",
    "    \"CRUD\"-flödet står för de operationer som man kan göra i sin data:\n",
    "    Create, Read, Update och Delete\n",
    "\n",
    "3. Beskriv kort vad en “left join” och en “inner join” är. Varför använder man det?\n",
    "\n",
    "    Left join används för att retunera alla rader i ett table samt matchande rader i ett annat table. Man kan se det som alla element i A i ett klassiskt venn-diagram.\n",
    "    Inner join blir A snitt B, alltså retuneras alla rader som matchar både i första (left) och andra (right) tabellen.\n",
    "    \n",
    "4. Beskriv kort vad indexering i SQL innebär.\n",
    "\n",
    "    Indexering skapar en ytterligare datastruktur som hänvisar till specifika rader och kolumner. Genom att organisera data för snabbare sökning gör indexering queries mer effektiva och snabba.\n",
    "    \n",
    "5. Beskriv kort vad en vy i SQL är.\n",
    "\n",
    "    Resultatet från en query. Påverkar ej underliggande data.\n",
    "\n",
    "6. Beskriv kort vad en lagrad procedur i SQL är.\n",
    "\n",
    "    Sparade queries som kan köras vid behov. Kan användas till att t.ex automatisera uppgifter eller återanvända upprepande eftersökta queries.\n",
    "    "
   ]
  },
  {
   "cell_type": "markdown",
   "metadata": {},
   "source": [
    "--- Programmeringsuppgift ---"
   ]
  },
  {
   "cell_type": "code",
   "execution_count": 5,
   "metadata": {
    "vscode": {
     "languageId": "sql"
    }
   },
   "outputs": [],
   "source": [
    "# Load the SQL extension\n",
    "%load_ext sql"
   ]
  },
  {
   "cell_type": "code",
   "execution_count": 4,
   "metadata": {
    "vscode": {
     "languageId": "sql"
    }
   },
   "outputs": [
    {
     "ename": "SyntaxError",
     "evalue": "invalid syntax (387265448.py, line 1)",
     "output_type": "error",
     "traceback": [
      "\u001b[1;36m  Cell \u001b[1;32mIn[4], line 1\u001b[1;36m\u001b[0m\n\u001b[1;33m    USE AdventureWorks2022\u001b[0m\n\u001b[1;37m        ^\u001b[0m\n\u001b[1;31mSyntaxError\u001b[0m\u001b[1;31m:\u001b[0m invalid syntax\n"
     ]
    }
   ],
   "source": [
    "USE AdventureWorks2022\n",
    "GO\n",
    "\n",
    "SELECT table_name\n",
    "FROM information_schema.tables\n",
    "WHERE table_type = 'BASE TABLE';\n"
   ]
  }
 ],
 "metadata": {
  "kernelspec": {
   "display_name": "Python 3",
   "language": "python",
   "name": "python3"
  },
  "language_info": {
   "codemirror_mode": {
    "name": "ipython",
    "version": 3
   },
   "file_extension": ".py",
   "mimetype": "text/x-python",
   "name": "python",
   "nbconvert_exporter": "python",
   "pygments_lexer": "ipython3",
   "version": "3.10.8"
  }
 },
 "nbformat": 4,
 "nbformat_minor": 2
}
