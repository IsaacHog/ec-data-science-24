{
 "cells": [
  {
   "cell_type": "markdown",
   "metadata": {},
   "source": [
    "<b>Teoretiska Frågor</b>\n",
    "1. Beskriv kort hur en relationsdatabas fungerar.\n",
    "\n",
    "    En relationsdatabas organiserar data i \"tables\" som består av rader och kolumner. Primary keys och foreign keys (likt python dictionaries key-value) används för att hänvisa till olika tables.\n",
    "\n",
    "2. Vad menas med “CRUD”-flödet?\n",
    "\n",
    "    \"CRUD\"-flödet står för de operationer som man kan göra i sin data:\n",
    "    Create, Read, Update och Delete\n",
    "\n",
    "3. Beskriv kort vad en “left join” och en “inner join” är. Varför använder man det?\n",
    "\n",
    "    Left join används för att retunera alla rader i ett table samt matchande rader i ett annat table. Man kan se det som alla element i A i ett klassiskt venn-diagram.\n",
    "    Inner join blir A snitt B, alltså retuneras alla rader som matchar både i första (left) och andra (right) tabellen.\n",
    "    \n",
    "4. Beskriv kort vad indexering i SQL innebär.\n",
    "\n",
    "    Indexering skapar en ytterligare datastruktur som hänvisar till specifika rader och kolumner. Genom att organisera data för snabbare sökning gör indexering queries mer effektiva och snabba.\n",
    "    \n",
    "5. Beskriv kort vad en vy i SQL är.\n",
    "\n",
    "    Resultatet från en query. Påverkar ej underliggande data.\n",
    "\n",
    "6. Beskriv kort vad en lagrad procedur i SQL är.\n",
    "\n",
    "    Sparade queries som kan köras vid behov. Kan användas till att t.ex automatisera uppgifter eller återanvända upprepande eftersökta queries.\n",
    "    "
   ]
  },
  {
   "cell_type": "markdown",
   "metadata": {},
   "source": [
    "<b>--- Programmeringsuppgift --- </b>"
   ]
  },
  {
   "cell_type": "markdown",
   "metadata": {},
   "source": [
    "Connect to database"
   ]
  },
  {
   "cell_type": "code",
   "execution_count": 120,
   "metadata": {},
   "outputs": [
    {
     "name": "stdout",
     "output_type": "stream",
     "text": [
      "Connection successful!\n"
     ]
    }
   ],
   "source": [
    "import pyodbc\n",
    "\n",
    "# Define connection parameters\n",
    "server = 'localhost'  # or the server name you used in VS Code\n",
    "database = 'AdventureWorks2022'\n",
    "driver = '{ODBC Driver 17 for SQL Server}'  # Make sure this driver is installed\n",
    "\n",
    "# Create the connection string with Windows Authentication\n",
    "connection_string = f\"\"\"\n",
    "    DRIVER={driver};\n",
    "    SERVER={server};\n",
    "    DATABASE={database};\n",
    "    Trusted_Connection=yes;\n",
    "\"\"\"\n",
    "\n",
    "try:\n",
    "    # Establish connection\n",
    "    conn = pyodbc.connect(connection_string)\n",
    "    print(\"Connection successful!\")\n",
    "except Exception as e:\n",
    "    print(\"Error connecting to database:\", e)\n"
   ]
  },
  {
   "cell_type": "markdown",
   "metadata": {},
   "source": [
    "Function for fetching data from database"
   ]
  },
  {
   "cell_type": "code",
   "execution_count": 121,
   "metadata": {},
   "outputs": [],
   "source": [
    "import pandas as pd\n",
    "\n",
    "def run_query(query):\n",
    "    server = 'localhost'\n",
    "    database = 'AdventureWorks2022'\n",
    "    driver = '{ODBC Driver 17 for SQL Server}'\n",
    "\n",
    "    connection_string = f\"\"\"\n",
    "        DRIVER={driver};\n",
    "        SERVER={server};\n",
    "        DATABASE={database};\n",
    "        Trusted_Connection=yes;\n",
    "    \"\"\"\n",
    "    \n",
    "    try:\n",
    "        with pyodbc.connect(connection_string) as conn:  \n",
    "            df = pd.read_sql(query, conn)\n",
    "            return df  # Return DataFrame for further processing/display\n",
    "\n",
    "    except Exception as e:\n",
    "        print(\"Error executing query:\", e)\n",
    "        return None"
   ]
  },
  {
   "cell_type": "markdown",
   "metadata": {},
   "source": [
    "<b>1. Descriptive summary of database:</b>\n",
    "\n",
    "By looking at table schemas we get an idea of what the database contains. It contains tables with the schemas HumanResources, Person, Production, Purchasing, Sales and dbo.\n",
    "This allows us to draw the conclusion that AdventureWorks produces and sells some type of item.\n",
    "\n",
    "Looking closer at the ProductDescription table we find that AdventureWorks sells bicycles. As we are only takeing a glance at the avalible product descriptions we don't really know if they sell other products as well, however it is clear that they sell bicycles."
   ]
  },
  {
   "cell_type": "code",
   "execution_count": 133,
   "metadata": {},
   "outputs": [
    {
     "name": "stderr",
     "output_type": "stream",
     "text": [
      "C:\\Users\\Isaac\\AppData\\Local\\Temp\\ipykernel_8788\\2716349532.py:17: UserWarning: pandas only supports SQLAlchemy connectable (engine/connection) or database string URI or sqlite3 DBAPI2 connection. Other DBAPI2 objects are not tested. Please consider using SQLAlchemy.\n",
      "  df = pd.read_sql(query, conn)\n"
     ]
    },
    {
     "data": {
      "text/html": [
       "<div>\n",
       "<style scoped>\n",
       "    .dataframe tbody tr th:only-of-type {\n",
       "        vertical-align: middle;\n",
       "    }\n",
       "\n",
       "    .dataframe tbody tr th {\n",
       "        vertical-align: top;\n",
       "    }\n",
       "\n",
       "    .dataframe thead th {\n",
       "        text-align: right;\n",
       "    }\n",
       "</style>\n",
       "<table border=\"1\" class=\"dataframe\">\n",
       "  <thead>\n",
       "    <tr style=\"text-align: right;\">\n",
       "      <th></th>\n",
       "      <th>TABLE_SCHEMA</th>\n",
       "    </tr>\n",
       "  </thead>\n",
       "  <tbody>\n",
       "    <tr>\n",
       "      <th>0</th>\n",
       "      <td>dbo</td>\n",
       "    </tr>\n",
       "    <tr>\n",
       "      <th>1</th>\n",
       "      <td>HumanResources</td>\n",
       "    </tr>\n",
       "    <tr>\n",
       "      <th>2</th>\n",
       "      <td>Person</td>\n",
       "    </tr>\n",
       "    <tr>\n",
       "      <th>3</th>\n",
       "      <td>Production</td>\n",
       "    </tr>\n",
       "    <tr>\n",
       "      <th>4</th>\n",
       "      <td>Purchasing</td>\n",
       "    </tr>\n",
       "    <tr>\n",
       "      <th>5</th>\n",
       "      <td>Sales</td>\n",
       "    </tr>\n",
       "  </tbody>\n",
       "</table>\n",
       "</div>"
      ],
      "text/plain": [
       "     TABLE_SCHEMA\n",
       "0             dbo\n",
       "1  HumanResources\n",
       "2          Person\n",
       "3      Production\n",
       "4      Purchasing\n",
       "5           Sales"
      ]
     },
     "metadata": {},
     "output_type": "display_data"
    },
    {
     "name": "stderr",
     "output_type": "stream",
     "text": [
      "C:\\Users\\Isaac\\AppData\\Local\\Temp\\ipykernel_8788\\2716349532.py:17: UserWarning: pandas only supports SQLAlchemy connectable (engine/connection) or database string URI or sqlite3 DBAPI2 connection. Other DBAPI2 objects are not tested. Please consider using SQLAlchemy.\n",
      "  df = pd.read_sql(query, conn)\n"
     ]
    },
    {
     "data": {
      "text/html": [
       "<div>\n",
       "<style scoped>\n",
       "    .dataframe tbody tr th:only-of-type {\n",
       "        vertical-align: middle;\n",
       "    }\n",
       "\n",
       "    .dataframe tbody tr th {\n",
       "        vertical-align: top;\n",
       "    }\n",
       "\n",
       "    .dataframe thead th {\n",
       "        text-align: right;\n",
       "    }\n",
       "</style>\n",
       "<table border=\"1\" class=\"dataframe\">\n",
       "  <thead>\n",
       "    <tr style=\"text-align: right;\">\n",
       "      <th></th>\n",
       "      <th>Description</th>\n",
       "    </tr>\n",
       "  </thead>\n",
       "  <tbody>\n",
       "    <tr>\n",
       "      <th>0</th>\n",
       "      <td>Chromoly steel.</td>\n",
       "    </tr>\n",
       "    <tr>\n",
       "      <th>1</th>\n",
       "      <td>Aluminum alloy cups; large diameter spindle.</td>\n",
       "    </tr>\n",
       "    <tr>\n",
       "      <th>2</th>\n",
       "      <td>Aluminum alloy cups and a hollow axle.</td>\n",
       "    </tr>\n",
       "    <tr>\n",
       "      <th>3</th>\n",
       "      <td>Suitable for any type of riding, on or off-roa...</td>\n",
       "    </tr>\n",
       "    <tr>\n",
       "      <th>4</th>\n",
       "      <td>This bike delivers a high-level of performance...</td>\n",
       "    </tr>\n",
       "    <tr>\n",
       "      <th>5</th>\n",
       "      <td>For true trail addicts.  An extremely durable ...</td>\n",
       "    </tr>\n",
       "    <tr>\n",
       "      <th>6</th>\n",
       "      <td>Serious back-country riding. Perfect for all l...</td>\n",
       "    </tr>\n",
       "    <tr>\n",
       "      <th>7</th>\n",
       "      <td>Top-of-the-line competition mountain bike. Per...</td>\n",
       "    </tr>\n",
       "    <tr>\n",
       "      <th>8</th>\n",
       "      <td>Suitable for any type of off-road trip. Fits a...</td>\n",
       "    </tr>\n",
       "    <tr>\n",
       "      <th>9</th>\n",
       "      <td>Entry level adult bike; offers a comfortable r...</td>\n",
       "    </tr>\n",
       "    <tr>\n",
       "      <th>10</th>\n",
       "      <td>Value-priced bike with many features of our to...</td>\n",
       "    </tr>\n",
       "    <tr>\n",
       "      <th>11</th>\n",
       "      <td>Same technology as all of our Road series bike...</td>\n",
       "    </tr>\n",
       "    <tr>\n",
       "      <th>12</th>\n",
       "      <td>Same technology as all of our Road series bike...</td>\n",
       "    </tr>\n",
       "    <tr>\n",
       "      <th>13</th>\n",
       "      <td>A true multi-sport bike that offers streamline...</td>\n",
       "    </tr>\n",
       "    <tr>\n",
       "      <th>14</th>\n",
       "      <td>Cross-train, race, or just socialize on a slee...</td>\n",
       "    </tr>\n",
       "  </tbody>\n",
       "</table>\n",
       "</div>"
      ],
      "text/plain": [
       "                                          Description\n",
       "0                                     Chromoly steel.\n",
       "1        Aluminum alloy cups; large diameter spindle.\n",
       "2              Aluminum alloy cups and a hollow axle.\n",
       "3   Suitable for any type of riding, on or off-roa...\n",
       "4   This bike delivers a high-level of performance...\n",
       "5   For true trail addicts.  An extremely durable ...\n",
       "6   Serious back-country riding. Perfect for all l...\n",
       "7   Top-of-the-line competition mountain bike. Per...\n",
       "8   Suitable for any type of off-road trip. Fits a...\n",
       "9   Entry level adult bike; offers a comfortable r...\n",
       "10  Value-priced bike with many features of our to...\n",
       "11  Same technology as all of our Road series bike...\n",
       "12  Same technology as all of our Road series bike...\n",
       "13  A true multi-sport bike that offers streamline...\n",
       "14  Cross-train, race, or just socialize on a slee..."
      ]
     },
     "metadata": {},
     "output_type": "display_data"
    }
   ],
   "source": [
    "query_tables = \"\"\"\n",
    "SELECT DISTINCT TABLE_SCHEMA \n",
    "FROM INFORMATION_SCHEMA.TABLES \n",
    "WHERE TABLE_TYPE = 'BASE TABLE';\n",
    "\"\"\"\n",
    "df_tables = run_query(query_tables)\n",
    "if df_tables is not None:\n",
    "    display(df_tables)\n",
    "\n",
    "query_product_description = \"\"\"\n",
    "SELECT TOP 15 Description\n",
    "FROM Production.ProductDescription;\n",
    "\"\"\"\n",
    "\n",
    "df_product_description = run_query(query_product_description)\n",
    "if df_product_description is not None:\n",
    "    display(df_product_description)"
   ]
  },
  {
   "cell_type": "markdown",
   "metadata": {},
   "source": [
    "<b>2. Statistical analysis </b>\n",
    "\n",
    "Looking at Person.StateProvince we can see data of customer origin. By looking at the CountryRegionCode we can produce a pie chart deomstrating customers per country. In total there is 179 customers in the table."
   ]
  },
  {
   "cell_type": "code",
   "execution_count": 136,
   "metadata": {},
   "outputs": [
    {
     "name": "stderr",
     "output_type": "stream",
     "text": [
      "C:\\Users\\Isaac\\AppData\\Local\\Temp\\ipykernel_8788\\2716349532.py:17: UserWarning: pandas only supports SQLAlchemy connectable (engine/connection) or database string URI or sqlite3 DBAPI2 connection. Other DBAPI2 objects are not tested. Please consider using SQLAlchemy.\n",
      "  df = pd.read_sql(query, conn)\n"
     ]
    },
    {
     "data": {
      "image/png": "[encoded data removed]",
      "text/plain": [
       "<Figure size 1000x800 with 1 Axes>"
      ]
     },
     "metadata": {},
     "output_type": "display_data"
    }
   ],
   "source": [
    "query_person_state_province = \"\"\"\n",
    "SELECT CountryRegionCode, COUNT(*) AS [RowCount]\n",
    "FROM Person.StateProvince\n",
    "GROUP BY CountryRegionCode\n",
    "ORDER BY [RowCount] DESC;\n",
    "\"\"\"\n",
    "\n",
    "df_customer_country = run_query(query_person_state_province)\n",
    "if df_customer_country is not None:\n",
    "    # Bundle countries with only 1 RowCount as \"Other\"\n",
    "    df_customer_country['CountryRegionCode'] = df_customer_country.apply(\n",
    "        lambda row: 'Other' if row['RowCount'] == 1 else row['CountryRegionCode'], axis=1\n",
    "    )\n",
    "\n",
    "    # Group by the new CountryRegionCode to sum the RowCounts\n",
    "    df_grouped = df_customer_country.groupby('CountryRegionCode', as_index=False).sum()\n",
    "\n",
    "    plt.figure(figsize=(10, 8))\n",
    "    wedges, texts, autotexts = plt.pie(\n",
    "        df_grouped['RowCount'], \n",
    "        labels=df_grouped['CountryRegionCode'], \n",
    "        autopct=lambda p: f'{int(p * sum(df_grouped[\"RowCount\"]) / 100)} ({p:.1f}%)', \n",
    "        startangle=120\n",
    "    )\n",
    "    \n",
    "    plt.title('Distribution of Customers per Country Region')\n",
    "    plt.axis('equal')  # Equal aspect ratio ensures that pie is drawn as a circle.\n",
    "    plt.show()"
   ]
  }
 ],
 "metadata": {
  "kernelspec": {
   "display_name": "Python 3",
   "language": "python",
   "name": "python3"
  },
  "language_info": {
   "codemirror_mode": {
    "name": "ipython",
    "version": 3
   },
   "file_extension": ".py",
   "mimetype": "text/x-python",
   "name": "python",
   "nbconvert_exporter": "python",
   "pygments_lexer": "ipython3",
   "version": "3.10.8"
  }
 },
 "nbformat": 4,
 "nbformat_minor": 2
}
